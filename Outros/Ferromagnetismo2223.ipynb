{
 "cells": [
  {
   "cell_type": "markdown",
   "metadata": {},
   "source": [
    "# Ferromagnetismo 22/23\n",
    "\n",
    "### Introdução\n",
    "\n",
    "<li>Modelo de Heisenberg:<ul>\n",
    "<li>Considera apenas a interacção entre electrões desemparelhados.</li>\n",
    "<li>Para simplificação vamos considerar apenas um electrão por nó da rede cristalina.</li>\n",
    "<li>Podemos considerar uma interacção de curto alcance devida apenas aos spins dos electrões.</li>\n",
    "\n",
    "A energia de interacção entre dois electrões pode ser escrita como:\n",
    "\n",
    "$$ \n",
    "E_\\pm = I_0 \\pm \\frac{J}{2} \n",
    "$$\n",
    "\n",
    "com + para spins anti-paralelos e - para spins paralelos. $I_0$ deve-se à interacção de Coulomb e $J/2$ é o chamado integral de troca e que se deve à interacção spin-spin.\n",
    "\n",
    "A diferença de energias entre um estado de spins paralelos e um anti-paralelos é:\n",
    "$$\\Delta E = E_+ - E_- = J$$\n",
    "Se J &gt; 0 então os estados paralelos têm menor energia, e tem-se ferromagnetismo, se J &lt; 0 os estados anti-paralelos têm menor energia e tem-se anti-ferromagnetismo.\n",
    "\n",
    "## Modelo de Ising\n",
    "\n",
    "Considerando o caso em que S = 1/2 a energia total vai ser dada por:\n",
    "\n",
    "$$E = -\\frac{1}{2} \\sum_{i, j}{J_{i, j}\\sigma_i\\sigma_j} - \\mu B \\sum_{i}{\\sigma_i}$$\n",
    "\n",
    "com $\\sigma_i = \\pm 1$ e $\\sigma_j = \\pm 1$\n",
    "\n",
    "Ou seja mesmo na ausência de campo externo o estado mínimo de energia correposnde a todos os spins alinhados e à produção de campo magnetico pelo próprio material.\n",
    "\n",
    "Para efectuar a simulação segundo o modelo de Ising vamos produzir o seguinte programa:\n",
    "\n",
    "<li>Incialização da rede.</li>\n",
    "<li>Em cada ponto da rede<ol>\n",
    "<li>Calcula-se a variação de energia no caso de inversão de spin</li>\n",
    "<li>Se a variação de energia for negativa o spin é invertido.</li>\n",
    "<li>Se a variação de energia for positiva atribui-se uma probablidade à inversão de spin (<em>função de transição, w</em>).</li>\n",
    "<li>Produz-se um número aleatório, r. Se r &lt; w há inversão de spin.</li>\n",
    "<li>Termina o ciclo de Monte Carlo.</li>\n",
    "</ol>\n",
    "</li>\n",
    "<li>Calcula-se as grandezas físicas associadas à nova configuração da rede.</li>\n",
    "\n",
    "## Função de transição\n",
    "\n",
    "A variação de energia devido à inversão de um spin na componente spin-spin é dada por:\n",
    "\n",
    "$$\\Delta \\epsilon = J\\left(\\sigma_{i inicial} \\sum_j{\\sigma_j} - \\sigma_{i final}\\sum_j{\\sigma_j}\\right) = J\\left(\\pm 2\\sum_j{\\sigma_j}\\right) = 2 J \\delta$$\n",
    "\n",
    "com $\\delta = \\pm \\sum_j{\\sigma_j} = -4; -2; 0; 2; 4$\n",
    "\n",
    "Nas situações em que $\\Delta \\epsilon < 0 \\Longrightarrow w = 1$\n",
    "\n",
    "Nas situações em que $\\Delta\\epsilon > 0 \\Longrightarrow w = e^{-\\frac{2\\delta}{t}}$ em que t é a temperatura reduzida.\n",
    "\n",
    "Quando se tem campo magnetico externo a função de transição fica:\n",
    "\n",
    "$$w = \\begin{cases}\n",
    "1, \\Delta\\epsilon <; 0\\\\\n",
    "e^{-\\frac{\\delta + \\sigma_{i inicial}h}{t}}, \\Delta\\epsilon >; 0\n",
    "\\end{cases}$$\n",
    "\n",
    "com h campo magnético reduzido.\n",
    "\n",
    "Em vez de calcularmos a função de transição em cada ponto da rede produzimos a tabela de todos os valores possíveis da função de transição antes de iniciar os ciclos de Monte Carlo. Fazendo-se o mesmo procedimento para as indexações das posições vizinhas.\n",
    "\n",
    "## Variáveis reduzidas\n",
    "\n",
    "Vamos usar as variáveis reduzidas:\n",
    "\n",
    "$$t = \\frac{K T}{J}$$\n",
    "$$h = \\frac{\\mu_B B}{J}$$\n",
    "\n",
    "Queremos observar o comportamento da rede a diferentes temperaturas e campos externos aplicados para as grandezas:\n",
    "\n",
    "- Momento magnético, m. Devido a trocas de sentido perto da temperatura crítica vamos considerar o modulo do momento magnético.\n",
    "\n",
    "- Energia média por ponto de rede.\n",
    "\n",
    "- Susceptibilidade magnética.\n",
    "\n",
    "- Capacidade calorífica.\n",
    "\n",
    "## Simulação\n",
    "\n",
    "### Grandezas a analizar\n",
    "\n",
    "<li>o momento magnético médio da rede e com o factor de ordem</li>\n",
    "\n",
    "$$ m = \\frac{||\\overline{M}||}{L^2}$$\n",
    "\n",
    "<li>energia média por ponto de rede</li>\n",
    "\n",
    "$$ \\overline{\\epsilon} = \\frac{\\overline{E}}{L^2}$$\n",
    "\n",
    "<li>susceptibilidade magnética</li>\n",
    "\n",
    "$$ \\chi = \\frac{\\sigma^2\\left(M\\right)}{t}L^2$$\n",
    "\n",
    "<li>capacidade calorífica</li>\n",
    "\n",
    "$$ C = \\frac{\\sigma^2\\left(\\epsilon\\right)}{t^2L^2}$$"
   ]
  },
  {
   "cell_type": "code",
   "execution_count": 1,
   "metadata": {},
   "outputs": [],
   "source": [
    "import math\n",
    "import matplotlib.pyplot as plt\n",
    "import numpy as np"
   ]
  },
  {
   "cell_type": "code",
   "execution_count": 2,
   "metadata": {},
   "outputs": [],
   "source": [
    "def ferroSimul(tamanho, n_iter, t, h):\n",
    "    rede = 2 * np.random.randint(2, size=(tamanho, tamanho)) - 1\n",
    "    \n",
    "    def delta_energia(i, j):\n",
    "        spin = rede[i, j]\n",
    "        net_spin = (rede[i, (j - 1) % tamanho] + rede[i, (j + 1) % tamanho] +\n",
    "                    rede[(i - 1) % tamanho, j] + rede[(i + 1) % tamanho, j])\n",
    "        return 2 * spin * net_spin + 2 * h * spin\n",
    "\n",
    "    ordem = []\n",
    "    energia = []\n",
    "\n",
    "    # Calcular e coletar dados ao longo de cada passo\n",
    "    for step in range(n_iter):\n",
    "        i, j = np.random.randint(tamanho), np.random.randint(tamanho)\n",
    "        de = delta_energia(i, j)\n",
    "        if de < 0 or np.random.rand() < np.exp(-de / t):\n",
    "            rede[i, j] *= -1\n",
    "        if step % 100 == 0:  # Coleta dados a cada 100 passos\n",
    "            m = np.abs(rede.sum())\n",
    "            order = m / tamanho**2\n",
    "            e = -np.sum(rede * np.roll(rede, 1, axis=0) + rede * np.roll(rede, 1, axis=1)) / tamanho**2\n",
    "            ordem.append(order)\n",
    "            energia.append(e)\n",
    "\n",
    "    return rede, ordem, energia"
   ]
  },
  {
   "cell_type": "code",
   "execution_count": 3,
   "metadata": {},
   "outputs": [],
   "source": [
    "t = 5.5\n",
    "h = 0.\n",
    "tamanho = 10\n",
    "rede, order, e = ferroSimul(tamanho, 10000, t, h)"
   ]
  },
  {
   "cell_type": "code",
   "execution_count": 4,
   "metadata": {},
   "outputs": [
    {
     "data": {
      "text/plain": [
       "[<matplotlib.lines.Line2D at 0x7f86f186d0c0>]"
      ]
     },
     "execution_count": 4,
     "metadata": {},
     "output_type": "execute_result"
    },
    {
     "data": {
      "image/png": "[encoded data removed]",
      "text/plain": [
       "<Figure size 432x288 with 1 Axes>"
      ]
     },
     "metadata": {},
     "output_type": "display_data"
    }
   ],
   "source": [
    "plt.plot(order)"
   ]
  },
  {
   "cell_type": "code",
   "execution_count": null,
   "metadata": {},
   "outputs": [],
   "source": [
    "order[1000:].mean()"
   ]
  },
  {
   "cell_type": "code",
   "execution_count": null,
   "metadata": {},
   "outputs": [],
   "source": [
    "np.abs(order[1000:]).mean()"
   ]
  },
  {
   "cell_type": "code",
   "execution_count": null,
   "metadata": {},
   "outputs": [],
   "source": [
    "plt.plot(e)"
   ]
  },
  {
   "cell_type": "code",
   "execution_count": null,
   "metadata": {},
   "outputs": [],
   "source": [
    "e[1000:].mean()"
   ]
  },
  {
   "cell_type": "code",
   "execution_count": null,
   "metadata": {},
   "outputs": [],
   "source": [
    "sus = order.var() * tamanho ** 2 / t \n",
    "sus"
   ]
  },
  {
   "cell_type": "code",
   "execution_count": null,
   "metadata": {},
   "outputs": [],
   "source": [
    "C = e.var() / (tamanho ** 2 * t ** 2)\n",
    "C"
   ]
  },
  {
   "cell_type": "code",
   "execution_count": null,
   "metadata": {},
   "outputs": [],
   "source": [
    "temps = np.arange(0.5, 5.5, .1)\n",
    "m, sus, e, c = simulacao_temp(temps, 10, 1000, 0)\n",
    "fig1 = ferro_graf(m, sus, e, c, temps)\n",
    "fig1"
   ]
  },
  {
   "cell_type": "code",
   "execution_count": null,
   "metadata": {},
   "outputs": [],
   "source": [
    "max_sus = sus.max()\n",
    "temps[sus == max_sus]"
   ]
  },
  {
   "cell_type": "code",
   "execution_count": null,
   "metadata": {},
   "outputs": [],
   "source": [
    "max_c = c.max()\n",
    "temps[c == max_c]"
   ]
  },
  {
   "cell_type": "code",
   "execution_count": null,
   "metadata": {},
   "outputs": [],
   "source": [
    "output = np.array([temps, m, sus, e, c]).transpose()"
   ]
  },
  {
   "cell_type": "code",
   "execution_count": null,
   "metadata": {},
   "outputs": [],
   "source": [
    "np.savetxt('0.tsv', output, delimiter='\\t')"
   ]
  },
  {
   "cell_type": "code",
   "execution_count": null,
   "metadata": {},
   "outputs": [],
   "source": [
    "data = np.loadtxt('0.tsv', delimiter='\\t')\n",
    "data "
   ]
  },
  {
   "cell_type": "code",
   "execution_count": null,
   "metadata": {},
   "outputs": [],
   "source": [
    "fig1.savefig('ferro.svg', dpi=1200)"
   ]
  },
  {
   "cell_type": "markdown",
   "metadata": {},
   "source": [
    "## Desenho da simulação\n",
    "\n",
    "- Se variar a temperatura ou o campo devo começar com a rede inicializada sempre da mesma forma ou no novo valor de t ou h começar com a rede como terminou o valor anterior? Vantagens e desvantagens\n",
    "\n",
    "- Que números de ciclos iniciais se devem não contabilizar para efeitos de obtenção de valores? 10%, valor fixo, outros?\n",
    "\n",
    "- Tamanho da rede, fronteiras abertas ou fechadas?\n",
    "\n",
    "- Que valores simular, com que passos?\n",
    "\n",
    "- Temos dados experimentais para verificar parte ou toda a simulação?\n",
    "\n",
    "- Qual o objectivo da simulação?\n",
    "\n",
    "# EXERCICIOS DE EXEMPLO DOS ANOS ANTERIORES NO HTML ORIGINAL\n",
    "\n",
    "[Ferromagnetismo 22/23](Ferromagnetismo-20230424.html)"
   ]
  }
 ],
 "metadata": {
  "kernelspec": {
   "display_name": "Python 3",
   "language": "python",
   "name": "python3"
  },
  "language_info": {
   "codemirror_mode": {
    "name": "ipython",
    "version": 3
   },
   "file_extension": ".py",
   "mimetype": "text/x-python",
   "name": "python",
   "nbconvert_exporter": "python",
   "pygments_lexer": "ipython3",
   "version": "3.12.1"
  }
 },
 "nbformat": 4,
 "nbformat_minor": 2
}
