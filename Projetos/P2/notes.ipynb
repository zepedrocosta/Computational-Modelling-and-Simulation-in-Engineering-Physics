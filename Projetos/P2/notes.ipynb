{
 "cells": [
  {
   "cell_type": "markdown",
   "metadata": {},
   "source": [
    "### 3.1 g values\n",
    "\n",
    "The g values are the total acceleration the vessel and crew are subjected to, less the gravity acceleration and usually measured in g, i.e. multiples of the gravity acceleration on the sea level. Don’t forget that the gravity acceleration is only in one direction while the total acceleration can have components on the vertical, like gravity, and on horizontal direction. For this measurement the students can use for the standard gravity acceleration at sea level the value of 10 m·s⁻².\n"
   ]
  },
  {
   "cell_type": "code",
   "execution_count": 1,
   "metadata": {},
   "outputs": [
    {
     "name": "stdout",
     "output_type": "stream",
     "text": [
      "Total Acceleration: 25.0 m/s^2\n",
      "g Value: 2.5 g\n"
     ]
    }
   ],
   "source": [
    "import math\n",
    "\n",
    "# Constants\n",
    "g = 10.0  # standard gravity acceleration at sea level in m/s^2\n",
    "\n",
    "# Example values for vertical and horizontal accelerations\n",
    "vertical_acceleration = 15.0  # in m/s^2\n",
    "horizontal_acceleration = 20.0  # in m/s^2\n",
    "\n",
    "\n",
    "# Function to calculate total acceleration and g values\n",
    "def calculate_g_value(vertical_acceleration, horizontal_acceleration):\n",
    "    # Calculate total acceleration\n",
    "    total_acceleration = math.sqrt(\n",
    "        vertical_acceleration**2 + horizontal_acceleration**2\n",
    "    )\n",
    "\n",
    "    # Calculate g value\n",
    "    g_value = total_acceleration / g\n",
    "\n",
    "    return total_acceleration, g_value\n",
    "\n",
    "\n",
    "# Calculate the total acceleration and g values\n",
    "total_acceleration, g_value = calculate_g_value(\n",
    "    vertical_acceleration, horizontal_acceleration\n",
    ")\n",
    "\n",
    "print(f\"Total Acceleration: {total_acceleration} m/s^2\")\n",
    "print(f\"g Value: {g_value} g\")"
   ]
  },
  {
   "cell_type": "markdown",
   "metadata": {},
   "source": [
    "### 3.2 Horizontal distance projected on the Earth surface\n",
    "\n",
    "This value pretends to measure the distance from the point on the Earth surface vertically below the crossing the reentry interface by the space module to the point it touches down. We can not use the x values of the trajectory because that movement is compose of arc of circles at different heights from the Earth center, which would increase the values obtained.\n",
    "\n",
    "An approximation would be to consider that at each step we consider as if each step in the forward method was taken at constant height (which is sometimes a rough approximation) and compute the θ angle measured from the center of the Earth that step movement had made. Considering it at constant height and equal to the initial height of the step, we would have:\n",
    "\n",
    "$$\\theta_i = \\frac{x_i - x_{i-1}}{R_{\\text{Earth}} + y_i}$$\n",
    "\n",
    "The sum of all θ<sub>i</sub> will give the total angle from interface reentry crossing to touchdown as measured from the center of the Earth, and now it is possible to compute the distance as measured at the Earth surface by:\n",
    "\n",
    "$$\\text{distance} = R_{\\text{Earth}} \\times \\theta $$\n"
   ]
  },
  {
   "cell_type": "code",
   "execution_count": 2,
   "metadata": {},
   "outputs": [
    {
     "name": "stdout",
     "output_type": "stream",
     "text": [
      "Horizontal distance projected on the Earth's surface: 2.9527267579340313 km\n"
     ]
    }
   ],
   "source": [
    "def calculate_horizontal_distance(x, y, R_earth=6371):\n",
    "    \"\"\"\n",
    "    Calculate the horizontal distance projected on the Earth's surface.\n",
    "\n",
    "    Parameters:\n",
    "    x (list or np.array): x-coordinates\n",
    "    y (list or np.array): y-coordinates\n",
    "    R_earth (float): Radius of the Earth in kilometers. Default is 6371 km.\n",
    "\n",
    "    Returns:\n",
    "    float: Horizontal distance on the Earth's surface in kilometers.\n",
    "    \"\"\"\n",
    "    theta = 0\n",
    "    n = len(x)\n",
    "\n",
    "    for i in range(1, n):\n",
    "        theta_i = (x[i] - x[i - 1]) / (R_earth + y[i])\n",
    "        theta += theta_i\n",
    "\n",
    "    distance = R_earth * theta\n",
    "    return distance\n",
    "\n",
    "\n",
    "# Example usage:\n",
    "x = [0, 1, 2, 3]  # Example x-coordinates (in km or any consistent unit)\n",
    "y = [100, 101, 102, 103]  # Example y-coordinates (in km or any consistent unit)\n",
    "\n",
    "distance = calculate_horizontal_distance(x, y)\n",
    "\n",
    "print(f\"Horizontal distance projected on the Earth's surface: {distance} km\")"
   ]
  }
 ],
 "metadata": {
  "kernelspec": {
   "display_name": "Python 3",
   "language": "python",
   "name": "python3"
  },
  "language_info": {
   "codemirror_mode": {
    "name": "ipython",
    "version": 3
   },
   "file_extension": ".py",
   "mimetype": "text/x-python",
   "name": "python",
   "nbconvert_exporter": "python",
   "pygments_lexer": "ipython3",
   "version": "3.12.1"
  }
 },
 "nbformat": 4,
 "nbformat_minor": 2
}
