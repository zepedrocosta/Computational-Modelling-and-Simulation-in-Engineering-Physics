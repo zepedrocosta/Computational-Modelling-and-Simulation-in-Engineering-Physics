{
 "cells": [
  {
   "cell_type": "code",
   "execution_count": 1,
   "metadata": {},
   "outputs": [],
   "source": [
    "# Imports\n",
    "import numpy as np\n",
    "import matplotlib.pyplot as plt\n",
    "import matplotlib.animation as animation"
   ]
  },
  {
   "cell_type": "code",
   "execution_count": 2,
   "metadata": {},
   "outputs": [],
   "source": [
    "%matplotlib inline"
   ]
  },
  {
   "cell_type": "code",
   "execution_count": 3,
   "metadata": {},
   "outputs": [],
   "source": [
    "def inicializaRede(tamanho, nCiclos):\n",
    "    \"\"\"Função para inicializar a rede de simulação da floresta\n",
    "    Usamos 0 para representar céluas sem vegetação, 1 com vegetação e 2 com fogo\n",
    "    tamanho: Dimensão de um lado da rede considerando a rede quadrada\n",
    "    nCiclos: Número de ciclos de cresce-fogo a simular\n",
    "    return: numpy array em que cada elemento é um estado da rede depois de um ciclo\"\"\"\n",
    "\n",
    "    simul = np.zeros((nCiclos + 1, tamanho, tamanho), dtype=\"int\")\n",
    "    simul[0] = np.random.randint(\n",
    "        2, size=(tamanho, tamanho)\n",
    "    )  # Inicialização do estado inicial\n",
    "    \n",
    "    return simul"
   ]
  },
  {
   "cell_type": "code",
   "execution_count": 4,
   "metadata": {},
   "outputs": [],
   "source": [
    "def cresceArde(florestaOld, floresta, p, f):\n",
    "    \"\"\"Função para calcular crescimento e surgimento de fogo dada uma grelha quadrada\n",
    "    Usamos 0 para representar céluas sem vegetação, 1 com vegetação e 2 com fogo\n",
    "    floresta: numpy array com a representação da floresta\n",
    "    p: Probabilidade de a vegetação crescer numa célula sem vegetação\n",
    "    f: Probabilidade de aparecer fogo numa célula com vegetação\n",
    "    return: A floresta depois da fase de crescimento e início de fogo\"\"\"\n",
    "\n",
    "    vazias = np.argwhere(florestaOld == 0)  # Obtém os índices das células sem vegetação\n",
    "    vegetacao = np.argwhere(florestaOld)  # Obtém os índices das células com vegetação\n",
    "\n",
    "    for ind in vazias:\n",
    "        floresta[ind[0], ind[1]] = np.floor(1 + p - np.random.random())\n",
    "    for ind in vegetacao:\n",
    "        floresta[ind[0], ind[1]] = np.floor(2 + f - np.random.random())\n",
    "\n",
    "    return floresta"
   ]
  },
  {
   "cell_type": "code",
   "execution_count": 5,
   "metadata": {},
   "outputs": [],
   "source": [
    "def propaga(floresta):\n",
    "    \"\"\"Função que calcula a propagação do fogo\n",
    "    Usamos 0 para representar céluas sem vegetação, 1 com vegetação e 2 com fogo\n",
    "    floresta: numpy array com a representação da floresta\n",
    "    return: floresta depois de terminar propagação de fogo\"\"\"\n",
    "\n",
    "    xMax, yMax = floresta.shape\n",
    "    # Enquanto se verificar alteração na floresta continua o processo de propagação\n",
    "    altera = True\n",
    "    ciclos = 0\n",
    "    while altera and ciclos < 1000:\n",
    "        altera = False\n",
    "        ciclos += 1\n",
    "        indFogo = np.argwhere(floresta == 2)\n",
    "        for ind in indFogo:\n",
    "            i = ind[0]\n",
    "            j = ind[1]\n",
    "            if i - 1 >= 0 and floresta[i - 1, j] == 1:\n",
    "                floresta[i - 1, j] = 2\n",
    "                altera = True\n",
    "            if i + 1 < xMax and floresta[i + 1, j] == 1:\n",
    "                floresta[i + 1, j] = 2\n",
    "                altera = True\n",
    "            if j - 1 >= 0 and floresta[i, j - 1] == 1:\n",
    "                floresta[i, j - 1] = 2\n",
    "                altera = True\n",
    "            if j + 1 < yMax and floresta[i, j + 1] == 1:\n",
    "                floresta[i, j + 1] = 2\n",
    "                altera = True\n",
    "    # Transforma as células ardidas em células sem vegetação\n",
    "    floresta[floresta == 2] = 0\n",
    "\n",
    "    if ciclos >= 1000:\n",
    "        print(\"Não convergiu!\")\n",
    "\n",
    "    return floresta"
   ]
  },
  {
   "cell_type": "code",
   "execution_count": 6,
   "metadata": {},
   "outputs": [],
   "source": [
    "def florestaViva(tamanho, probCrescer, probArder, nCiclos):\n",
    "    \"\"\"Função que simula vários ciclos de crescimento e fogo na floresta\n",
    "    tamanho: O tamanho da grelha quadrada\n",
    "    probCrescer: A probabilidade de crescer vegetação onde não existe\n",
    "    probArder: A probabilidade de se iniciar um fogo em célula com vegetação\n",
    "    nCiclos: Número de ciclos a simular\"\"\"\n",
    "\n",
    "    # Inicialização da floresta\n",
    "    simul = inicializaRede(tamanho, nCiclos)\n",
    "\n",
    "    # Ciclos de cresce arde\n",
    "    for i in range(1, nCiclos + 1):\n",
    "        cresceArde(simul[i - 1], simul[i], probCrescer, probArder)\n",
    "        propaga(simul[i])\n",
    "\n",
    "    return simul"
   ]
  },
  {
   "cell_type": "code",
   "execution_count": 7,
   "metadata": {},
   "outputs": [],
   "source": [
    "def anim_rule(simul):\n",
    "    # %matplotlib notebook\n",
    "    fig, ax = plt.subplots(figsize=(6, 6))\n",
    "\n",
    "    im = ax.imshow(simul[0], cmap=plt.get_cmap(\"Greens\"))\n",
    "\n",
    "    def update(i):\n",
    "\n",
    "        im.set_array(simul[i])\n",
    "        return [im]\n",
    "\n",
    "    anim = animation.FuncAnimation(\n",
    "        fig,\n",
    "        update,\n",
    "        frames=len(simul),\n",
    "        interval=1000 / 30,  # in ms\n",
    "    )\n",
    "\n",
    "    return anim"
   ]
  },
  {
   "cell_type": "code",
   "execution_count": 8,
   "metadata": {},
   "outputs": [],
   "source": [
    "def denPlot(simul):\n",
    "    # %matplotlib inline\n",
    "    size = len(simul)\n",
    "\n",
    "    veg = np.zeros(size)\n",
    "    des = np.zeros(size)\n",
    "    for i in range(size):\n",
    "        veg[i] = len(np.argwhere(simul[i] > 0))\n",
    "        des[i] = len(np.argwhere(simul[i] == 0))\n",
    "\n",
    "    fig, ax = plt.subplots(figsize=(8, 8))\n",
    "    ax.plot(veg, \"g\")\n",
    "    ax.plot(des, \"b\")"
   ]
  },
  {
   "cell_type": "code",
   "execution_count": 9,
   "metadata": {},
   "outputs": [
    {
     "data": {
      "text/plain": [
       "<matplotlib.animation.FuncAnimation at 0x1c93a2cf7d0>"
      ]
     },
     "execution_count": 9,
     "metadata": {},
     "output_type": "execute_result"
    }
   ],
   "source": [
    "simul = florestaViva(15, 0.07, 0.001, 200)\n",
    "anim_rule(simul)"
   ]
  },
  {
   "cell_type": "code",
   "execution_count": 10,
   "metadata": {},
   "outputs": [],
   "source": [
    "denPlot(simul)"
   ]
  }
 ],
 "metadata": {
  "kernelspec": {
   "display_name": "Python 3",
   "language": "python",
   "name": "python3"
  },
  "language_info": {
   "codemirror_mode": {
    "name": "ipython",
    "version": 3
   },
   "file_extension": ".py",
   "mimetype": "text/x-python",
   "name": "python",
   "nbconvert_exporter": "python",
   "pygments_lexer": "ipython3",
   "version": "3.12.1"
  }
 },
 "nbformat": 4,
 "nbformat_minor": 2
}
