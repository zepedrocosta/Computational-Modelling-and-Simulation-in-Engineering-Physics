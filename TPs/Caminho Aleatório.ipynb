{
 "cells": [
  {
   "cell_type": "code",
   "execution_count": null,
   "metadata": {},
   "outputs": [],
   "source": [
    "import math\n",
    "import matplotlib.pyplot as plt\n",
    "import numpy as np"
   ]
  },
  {
   "cell_type": "code",
   "execution_count": null,
   "metadata": {},
   "outputs": [],
   "source": [
    "\"\"\"\n",
    "Calcula a probabilidade de um resultado possível da distribuição multinominal\n",
    "para um total de 4 escolhas possíveis\n",
    "\"\"\"\n",
    "\n",
    "\n",
    "def p(i, j, k, l):\n",
    "    n = i + j + k + l\n",
    "    output = (\n",
    "        math.factorial(n)\n",
    "        / (\n",
    "            math.factorial(i)\n",
    "            * math.factorial(j)\n",
    "            * math.factorial(k)\n",
    "            * math.factorial(l)\n",
    "        )\n",
    "        * (1 / 4) ** n\n",
    "    )\n",
    "\n",
    "    return output"
   ]
  },
  {
   "cell_type": "code",
   "execution_count": null,
   "metadata": {},
   "outputs": [],
   "source": [
    "n = 100\n",
    "result = 0\n",
    "for i in range(n + 1):\n",
    "    for j in range(n + 1 - i):\n",
    "        for k in range(n + 1 - i - j):\n",
    "            l = n - i - j - k\n",
    "\n",
    "            result += p(i, j, k, l)\n",
    "\n",
    "print(result)"
   ]
  },
  {
   "cell_type": "code",
   "execution_count": null,
   "metadata": {},
   "outputs": [],
   "source": [
    "n = 100\n",
    "result = np.array([0.0, 0.0])\n",
    "for i in range(n + 1):\n",
    "    for j in range(n + 1 - i):\n",
    "        for k in range(n + 1 - i - j):\n",
    "            l = n - i - j - k\n",
    "\n",
    "            result += p(i, j, k, l) * (\n",
    "                i * np.array([1, 0])\n",
    "                + j * np.array([0, 1])\n",
    "                + k * np.array([-1, 0])\n",
    "                + l * np.array([0, -1])\n",
    "            )\n",
    "\n",
    "print(result)"
   ]
  },
  {
   "cell_type": "code",
   "execution_count": null,
   "metadata": {},
   "outputs": [],
   "source": [
    "# Variância\n",
    "n = 100\n",
    "result = np.array([0.0, 0.0])\n",
    "for i in range(n + 1):\n",
    "    for j in range(n + 1 - i):\n",
    "        for k in range(n + 1 - i - j):\n",
    "            l = n - i - j - k\n",
    "\n",
    "            result += (\n",
    "                p(i, j, k, l)\n",
    "                * (\n",
    "                    i * np.array([1, 0])\n",
    "                    + j * np.array([0, 1])\n",
    "                    + k * np.array([-1, 0])\n",
    "                    + l * np.array([0, -1])\n",
    "                )\n",
    "                ** 2\n",
    "            )\n",
    "\n",
    "print(result)"
   ]
  },
  {
   "cell_type": "code",
   "execution_count": null,
   "metadata": {},
   "outputs": [],
   "source": [
    "# Distância média à origem\n",
    "result = 0.0\n",
    "for i in range(n + 1):\n",
    "    for j in range(n + 1 - i):\n",
    "        for k in range(n + 1 - i - j):\n",
    "            l = n - i - j - k\n",
    "\n",
    "            result += p(i, j, k, l) * np.sqrt(\n",
    "                np.sum(\n",
    "                    (\n",
    "                        i * np.array([1, 0])\n",
    "                        + j * np.array([0, 1])\n",
    "                        + k * np.array([-1, 0])\n",
    "                        + l * np.array([0, -1])\n",
    "                    )\n",
    "                    * (\n",
    "                        i * np.array([1, 0])\n",
    "                        + j * np.array([0, 1])\n",
    "                        + k * np.array([-1, 0])\n",
    "                        + l * np.array([0, -1])\n",
    "                    )\n",
    "                )\n",
    "            )\n",
    "\n",
    "print(result)"
   ]
  },
  {
   "cell_type": "code",
   "execution_count": null,
   "metadata": {},
   "outputs": [],
   "source": [
    "def inicia(nPassos, nAmostras):\n",
    "    \n",
    "    '''Faz a inicialização das estruturas de dados que vão armazenar os resultados\n",
    "    das várias amostragens de caminhos aleatórios\n",
    "    nPassos: O número de passos aleatórios do caminho\n",
    "    nAmostras: O número de amostragens a efectuar\n",
    "    return: Tupel com os diferentes arrays'''\n",
    "    \n",
    "    tipo = 'float'\n",
    "    \n",
    "    sx = np.zeros(nPassos + 1, dtype = tipo) #A soma das posições em x no passo i\n",
    "    sy = np.zeros(nPassos + 1, dtype = tipo) #A soma das posições em y no passo i\n",
    "    sr = np.zeros((nPassos + 1, 2), dtype = tipo) #A soma dos vectores posição no passo i\n",
    "    sx2 = np.zeros(nPassos + 1, dtype = tipo) #A soma das posições em x ao quadrado no passo i\n",
    "    sy2 = np.zeros(nPassos + 1, dtype = tipo) #A soma das posições em y ao quadrado no passo i\n",
    "    sr2 = np.zeros(nPassos + 1, dtype = tipo) #A soma dos vectores posição ao quadrado no passo i\n",
    "    sNorma = np.zeros(nPassos + 1, dtype = tipo) #A soma das distâncias à origem no passo i\n",
    "    rf = np.zeros((nAmostras, 2), dtype = tipo) #A posição final em cada amostagem\n",
    "    \n",
    "    return sx, sy, sr, sx2, sy2, sr2, sNorma, rf"
   ]
  },
  {
   "cell_type": "code",
   "execution_count": null,
   "metadata": {},
   "outputs": [],
   "source": [
    "def passoSimples():\n",
    "    \n",
    "    '''Produz um passo num caminho aleatório simples e sem direcção preferencial'''\n",
    "    \n",
    "    direccao = np.random.randint(4)\n",
    "    possiveis = np.array([[1, 0], [0, 1], [-1, 0], [0, -1]], dtype = 'int')\n",
    "    \n",
    "    return possiveis[direccao]"
   ]
  },
  {
   "cell_type": "code",
   "execution_count": null,
   "metadata": {},
   "outputs": [],
   "source": [
    "def fazCaminho(nPassos, data):\n",
    "    '''Faz um caminho aleatório registando os valores em cada passo na estrutura de dados\n",
    "    nPassos: Número de passos do caminho\n",
    "    data: Estrutura de dados para armazenar os valores\n",
    "    return: O caminho aleatório'''\n",
    "    \n",
    "    caminho = np.zeros((nPassos + 1, 2), dtype = 'int') #Inicializa o caminho\n",
    "    #Cria o caminho aleatório e guarda os dados em cada passo\n",
    "    for i in range(1, nPassos + 1):\n",
    "        \n",
    "        passo = passoSimples()\n",
    "        \n",
    "        caminho[i] = caminho[i - 1] + passo\n",
    "        \n",
    "        data[0][i] += caminho[i, 0] #sx para cada passo 0..100 a soma do valor em x das nAmostragens\n",
    "        data[1][i] += caminho[i, 1] #sy\n",
    "        data[2][i] += caminho[i] #sr\n",
    "        data[3][i] += caminho[i, 0] ** 2 #sx2\n",
    "        data[4][i] += caminho[i, 1] ** 2 #sy2\n",
    "        data[5][i] += np.sum(caminho[i] * caminho[i]) #sr2\n",
    "        data[6][i] += np.sum(caminho[i] * caminho[i]) ** (1/2) #sNorma\n",
    "    \n",
    "    return caminho"
   ]
  },
  {
   "cell_type": "code",
   "execution_count": null,
   "metadata": {},
   "outputs": [],
   "source": [
    "def amostragemCaminhos(nPassos, nAmostragens, grafico = True):\n",
    "    '''Cria nAmostragens de caminhos aleatórios com nPassos\n",
    "    nPassos: Número de passos nos caminhos\n",
    "    nAmostragens: Número de caminhos a produzir\n",
    "    grafico: Se True faz o gráfico do último caminho.\n",
    "    return: Os dados cumulativos das várias amostragens por passo e posições finais'''\n",
    "    \n",
    "    data = inicia(nPassos, nAmostragens) #Inicializa as estruturas de dados para guardar resultados\n",
    "    \n",
    "    for i in range(nAmostragens):\n",
    "        \n",
    "        caminho = fazCaminho(nPassos, data) #Produz um caminho\n",
    "        \n",
    "        data[7][i] = caminho[-1] #Guarda a última posição do caminho\n",
    "    \n",
    "    data[0][:] = data[0] / nAmostragens\n",
    "    data[1][:] = data[1] / nAmostragens\n",
    "    data[2][:] = data[2] / nAmostragens\n",
    "    data[3][:] = data[3] / nAmostragens\n",
    "    data[4][:] = data[4] / nAmostragens\n",
    "    data[5][:] = data[5] / nAmostragens\n",
    "    data[6][:] = data[6] / nAmostragens\n",
    "    \n",
    "    if grafico:\n",
    "        fig, ax = plt.subplots(figsize = (8, 8))\n",
    "        ax.plot(caminho[:, 0], caminho[:, 1])\n",
    "        \n",
    "    return data"
   ]
  },
  {
   "cell_type": "code",
   "execution_count": null,
   "metadata": {},
   "outputs": [],
   "source": [
    "out = amostragemCaminhos(100, 10000)"
   ]
  },
  {
   "cell_type": "code",
   "execution_count": null,
   "metadata": {},
   "outputs": [],
   "source": [
    "figRF, axRF = plt.subplots(figsize = (8,8))\n",
    "axRF.plot(out[7][:, 0], out[7][:, 1], 'o')\n",
    "axRF.set_xlabel('x')\n",
    "axRF.set_ylabel('y')\n",
    "axRF.set_title('Posições finais')\n",
    "pass"
   ]
  },
  {
   "cell_type": "code",
   "execution_count": null,
   "metadata": {},
   "outputs": [],
   "source": [
    "#X médio\n",
    "figX, axX = plt.subplots(figsize = (8,8))\n",
    "axX.plot(out[0], 'o')\n",
    "axX.set_title('$\\overline{x}$ vs #passo')\n",
    "axX.set_ylabel(r'$\\overline{x}$')\n",
    "axX.set_xlabel(r'# passo')\n",
    "pass"
   ]
  },
  {
   "cell_type": "code",
   "execution_count": null,
   "metadata": {},
   "outputs": [],
   "source": [
    "#Y médio\n",
    "figY, axY = plt.subplots(figsize = (8,8))\n",
    "axY.plot(out[1], 'o')\n",
    "axY.set_title('$\\overline{y}$ vs #passo')\n",
    "axY.set_ylabel(r'$\\overline{y}')\n",
    "axY.set_xlabel(r'# passo')\n",
    "pass"
   ]
  },
  {
   "cell_type": "code",
   "execution_count": null,
   "metadata": {},
   "outputs": [],
   "source": [
    "#SX2 médio\n",
    "figSX2, axSX2 = plt.subplots(figsize = (8,8))\n",
    "axSX2.plot(out[3], 'o')\n",
    "axSX2.set_title('$\\sigma_x^2$ vs #passo')\n",
    "axSX2.set_ylabel(r'$\\sigma_x^2$')\n",
    "axSX2.set_xlabel(r'# passo')\n",
    "pass"
   ]
  },
  {
   "cell_type": "code",
   "execution_count": null,
   "metadata": {},
   "outputs": [],
   "source": [
    "#SY2 médio\n",
    "figSY2, axSY2 = plt.subplots(figsize = (8,8))\n",
    "axSY2.plot(out[4], 'o')\n",
    "axSY2.set_title('$\\sigma_y^2$ vs #passo')\n",
    "axSY2.set_ylabel(r'$\\sigma_y^2$')\n",
    "axSY2.set_xlabel(r'# passo')\n",
    "pass"
   ]
  },
  {
   "cell_type": "code",
   "execution_count": null,
   "metadata": {},
   "outputs": [],
   "source": [
    "#SR2 médio\n",
    "figSR2, axSR2 = plt.subplots(figsize = (8,8))\n",
    "axSR2.plot(out[5], 'o')\n",
    "axSR2.set_title('$\\sigma_r^2$ vs #passo')\n",
    "axSR2.set_ylabel(r'$\\sigma_r^2$')\n",
    "axSR2.set_xlabel(r'# passo')\n",
    "pass"
   ]
  },
  {
   "cell_type": "code",
   "execution_count": null,
   "metadata": {},
   "outputs": [],
   "source": [
    "#SRN médio\n",
    "figRN, axRN = plt.subplots(figsize = (8,8))\n",
    "axRN.plot(out[6], 'o')\n",
    "axRN.set_title('$\\overline{r}$ vs #passo')\n",
    "axRN.set_ylabel(r'$\\overline{r}$')\n",
    "axRN.set_xlabel(r'# passo')\n",
    "pass\n"
   ]
  },
  {
   "cell_type": "code",
   "execution_count": null,
   "metadata": {},
   "outputs": [],
   "source": [
    "norm = np.sum((out[7] * out[7]), axis = 1) ** (1/2)\n",
    "figH, axH = plt.subplots(figsize = (8, 8))\n",
    "axH.hist(norm, bins = 15)\n",
    "pass"
   ]
  },
  {
   "cell_type": "markdown",
   "metadata": {},
   "source": [
    "# Caminho aleatório com direção preferencial\n",
    "\n",
    "Os caminhos aleatórios podem ter uma ou mais direcções preferências, em que a probabilidade do passo ser numa dada direcção pode ser diferente das outras direcções. Neste caso ainda é possível obter facilmente de forma analítica os valores médios e variâncias esperados, bastando alterar as probabilidades de cada direcção para outros valores. Deixa-se como exercício para os alunos obterem estes valores esperados.\n",
    "\n",
    "Podemos manter maior parte das funções usadas anteriormente, apenas substituindo a função passoSimples e pequenas alterações nas restantes funções."
   ]
  },
  {
   "cell_type": "code",
   "execution_count": null,
   "metadata": {},
   "outputs": [],
   "source": [
    "def passoPreferencial(pi, pj, pk, pl):\n",
    "    '''Calcula um passo de um caminho aleatório em que as direcções +x, +y, -x e -y tem os\n",
    "    pesos dados pelos argumentos da função.\n",
    "    pi: Peso da direcção +x\n",
    "    pj: Peso da direcção +y\n",
    "    pk: Peso da direcção -x\n",
    "    pl: Peso da direcção -y\n",
    "    \n",
    "    return: O vector com a direcção do passo'''\n",
    "    \n",
    "    total = pi + pj + pk + pl #Número total dos pesos\n",
    "    \n",
    "    possiveis = np.array(pi * [[1, 0]] + pj * [[0, 1]] + pk * [[-1, 0]] + pl * [[0, -1]]) #Constroi o array com todas as hpóteses\n",
    "    \n",
    "    direccao = np.random.randint(total)\n",
    "    \n",
    "    return possiveis[direccao]"
   ]
  },
  {
   "cell_type": "code",
   "execution_count": null,
   "metadata": {},
   "outputs": [],
   "source": [
    "def fazCaminho(nPassos, data, tipo = None):\n",
    "    '''Faz um caminho aleatório registando os valores em cada passo na estrutura de dados\n",
    "    nPassos: Número de passos do caminho\n",
    "    data: Estrutura de dados para armazenar os valores\n",
    "    tipo: None para caminho simples, tuple com os pesos de cada direcção\n",
    "    return: O caminho aleatório'''\n",
    "    \n",
    "    caminho = np.zeros((nPassos + 1, 2), dtype = 'int') #Inicializa o caminho\n",
    "    #Cria o caminho aleatório e guarda os dados em cada passo\n",
    "    for i in range(1, nPassos + 1):\n",
    "        \n",
    "        if tipo is None:\n",
    "            passo = passoSimples()\n",
    "        else:\n",
    "            passo = passoPreferencial(tipo[0], tipo[1], tipo[2], tipo[3])\n",
    "        \n",
    "        caminho[i] = caminho[i - 1] + passo\n",
    "        \n",
    "        data[0][i] += caminho[i, 0] #sx\n",
    "        data[1][i] += caminho[i, 1] #sy\n",
    "        data[2][i] += caminho[i] #sr\n",
    "        data[3][i] += caminho[i, 0] ** 2 #sx2\n",
    "        data[4][i] += caminho[i, 1] ** 2 #sy2\n",
    "        data[5][i] += np.sum(caminho[i] * caminho[i]) #sr2\n",
    "        data[6][i] += np.sum((caminho[i] * caminho[i])) ** (1/2) #sNorma\n",
    "    \n",
    "    return caminho"
   ]
  },
  {
   "cell_type": "code",
   "execution_count": null,
   "metadata": {},
   "outputs": [],
   "source": [
    "def amostragemCaminhos(nPassos, nAmostragens, grafico = True, tipo = None):\n",
    "    '''Cria nAmostragens de caminhos aleatórios com nPassos\n",
    "    nPassos: Número de passos nos caminhos\n",
    "    nAmostragens: Número de caminhos a produzir\n",
    "    grafico: Se True faz o gráfico do último caminho.\n",
    "    tipo: Direcções preferenciais, None para não haver direcções preferencias, tuple com os pesos de cada direcção\n",
    "    return: Os dados cumulativos das várias amostragens por passo e posições finais'''\n",
    "    \n",
    "    data = inicia(nPassos, nAmostragens) #Inicializa as estruturas de dados para guardar resultados\n",
    "    \n",
    "    for i in range(nAmostragens):\n",
    "        \n",
    "        caminho = fazCaminho(nPassos, data, tipo) #Produz um caminho\n",
    "        \n",
    "        data[7][i] = caminho[-1] #Guarda a última posição do caminho\n",
    "    \n",
    "    data[0][:] = data[0] / nAmostragens\n",
    "    data[1][:] = data[1] / nAmostragens\n",
    "    data[2][:] = data[2] / nAmostragens\n",
    "    data[3][:] = data[3] / nAmostragens\n",
    "    data[4][:] = data[4] / nAmostragens\n",
    "    data[5][:] = data[5] / nAmostragens\n",
    "    data[6][:] = data[6] / nAmostragens\n",
    "    \n",
    "    if grafico:\n",
    "        fig, ax = plt.subplots(figsize = (8, 8))\n",
    "        ax.plot(caminho[:, 0], caminho[:, 1])\n",
    "        \n",
    "    return data"
   ]
  },
  {
   "cell_type": "code",
   "execution_count": null,
   "metadata": {},
   "outputs": [],
   "source": [
    "def xyGraficos(data):\n",
    "    '''Produz os gráficos para análise de caminhos aleatórios, x e y médio, \n",
    "    variâncias de x e y\n",
    "    data: Array com a informação de x, y, r, x**2, y**2, r**2, norma médios e posições finais'''\n",
    "    \n",
    "    fig = plt.Figure()\n",
    "    axX = fig.add_subplot(2, 2, 1)\n",
    "    axX.plot(data[0], 'o')\n",
    "    axX.set_title('$\\overline{x}$ vs #passo')\n",
    "    axX.set_ylabel(r'$\\overline{x}$')\n",
    "    axX.set_xlabel(r'# passo')\n",
    "    \n",
    "    axY = fig.add_subplot(2, 2, 2)\n",
    "    axY.plot(data[1], 'o')\n",
    "    axY.set_title('$\\overline{y}$ vs #passo')\n",
    "    axY.set_ylabel(r'$\\overline{y}$')\n",
    "    axY.set_xlabel(r'# passo')\n",
    "    \n",
    "    axSX2 = fig.add_subplot(2, 2, 3)\n",
    "    axSX2.plot(data[3] - data[0] ** 2, 'o')\n",
    "    axSX2.set_title('$\\sigma_x^2$ vs #passo')\n",
    "    axSX2.set_ylabel(r'$\\sigma_x^2$')\n",
    "    axSX2.set_xlabel(r'# passo')\n",
    "    \n",
    "    axSY2 = fig.add_subplot(2, 2, 4)\n",
    "    axSY2.plot(data[4] - data[1] ** 2, 'o')\n",
    "    axSY2.set_title('$\\sigma_y^2$ vs #passo')\n",
    "    axSY2.set_ylabel(r'$\\sigma_y^2$')\n",
    "    axSY2.set_xlabel(r'# passo')\n",
    "    \n",
    "    fig.set_size_inches(12, 12)\n",
    "    \n",
    "    return fig"
   ]
  },
  {
   "cell_type": "code",
   "execution_count": null,
   "metadata": {},
   "outputs": [],
   "source": [
    "def distanciaGraficos(data):\n",
    "    \n",
    "    '''Produz os gráficos para análise de caminhos aleatórios, distância à origem, histograma e posições finais\n",
    "    data: Array com a informação de x, y, r, x**2, y**2, r**2, norma médios e posições finais'''\n",
    "    \n",
    "    fig = plt.Figure()\n",
    "    \n",
    "    axSR2 = fig.add_subplot(2, 2, 1)\n",
    "    axSR2.plot(data[5] - (data[0] ** 2 + data[1] ** 2), 'o')\n",
    "    axSR2.set_title('$\\sigma_r^2$ vs #passo')\n",
    "    axSR2.set_ylabel(r'$\\sigma_r^2$')\n",
    "    axSR2.set_xlabel(r'# passo')\n",
    "    \n",
    "    axRN = fig.add_subplot(2, 2, 2)\n",
    "    axRN.plot(data[6], 'o')\n",
    "    axRN.set_title('$\\overline{r}$ vs #passo')\n",
    "    axRN.set_ylabel(r'$\\overline{r}$')\n",
    "    axRN.set_xlabel(r'# passo')\n",
    "    \n",
    "    norm = np.sum((data[7] * data[7]), axis = 1) ** (1/2)\n",
    "    axH = fig.add_subplot(2, 2, 3)\n",
    "    axH.hist(norm, bins = 15)\n",
    "    \n",
    "    axRF = fig.add_subplot(2, 2, 4)\n",
    "    axRF.plot(data[7][:, 0], data[7][:, 1], 'o')\n",
    "    axRF.set_xlabel('x')\n",
    "    axRF.set_ylabel('y')\n",
    "    axRF.set_title('Posições finais')\n",
    "    \n",
    "    fig.set_size_inches(12, 12)\n",
    "    \n",
    "    return fig"
   ]
  },
  {
   "cell_type": "code",
   "execution_count": null,
   "metadata": {},
   "outputs": [],
   "source": [
    "data = amostragemCaminhos(100, 10000, tipo = (4, 1, 1, 1))"
   ]
  },
  {
   "cell_type": "code",
   "execution_count": null,
   "metadata": {},
   "outputs": [],
   "source": [
    "fig1 = xyGraficos(data)\n",
    "fig1"
   ]
  },
  {
   "cell_type": "code",
   "execution_count": null,
   "metadata": {},
   "outputs": [],
   "source": [
    "fig2 = distanciaGraficos(data)\n",
    "fig2"
   ]
  },
  {
   "cell_type": "markdown",
   "metadata": {},
   "source": [
    "# Caminho aleatório que se auto evita\n",
    "\n",
    "Um caminho aleatório que já não cumpre as definições de caminho aleatório simples e que já não permite uma análise analítica dos resultados esperados é o caminho aleatório que se auto evita.\n",
    "\n",
    "Este caminho termina quando volta a uma posição que já tinha estado anteriormente.\n",
    "\n",
    "Este caminho cria mais uma variável de interesse que é quantos passos cada caminho na amostragem deu antes de terminar.\n",
    "\n",
    "Vamos assim alterar mais uma vez algumas das funções já usadas para produzir e analisar estes caminhos aleatórios."
   ]
  },
  {
   "cell_type": "code",
   "execution_count": null,
   "metadata": {},
   "outputs": [],
   "source": [
    "def inicia(nPassos, nAmostras):\n",
    "    \n",
    "    '''Faz a inicialização das estruturas de dados que vão armazenar os resultados\n",
    "    das várias amostragens de caminhos aleatórios\n",
    "    nPassos: O número de passos aleatórios do caminho\n",
    "    nAmostras: O número de amostragens a efectuar\n",
    "    return: Tupel com os diferentes arrays'''\n",
    "    \n",
    "    tipo = 'float'\n",
    "    \n",
    "    sx = np.zeros(nPassos + 1, dtype = tipo) #A soma das posições em x no passo i\n",
    "    sy = np.zeros(nPassos + 1, dtype = tipo) #A soma das posições em y no passo i\n",
    "    sr = np.zeros((nPassos + 1, 2), dtype = tipo) #A soma dos vectores posição no passo i\n",
    "    sx2 = np.zeros(nPassos + 1, dtype = tipo) #A soma das posições em x ao quadrado no passo i\n",
    "    sy2 = np.zeros(nPassos + 1, dtype = tipo) #A soma das posições em y ao quadrado no passo i\n",
    "    sr2 = np.zeros(nPassos + 1, dtype = tipo) #A soma dos vectores posição ao quadrado no passo i\n",
    "    sNorma = np.zeros(nPassos + 1, dtype = tipo) #A soma das distâncias à origem no passo i\n",
    "    rf = np.zeros((nAmostras, 2), dtype = tipo) #A posição final em cada amostagem\n",
    "    tamanho = np.zeros(nAmostras, dtype = tipo) #O número de passos realizados antes do caminho terminar\n",
    "    dim = np.zeros(nPassos + 1, dtype = tipo) #O número de caminhos que chegou ao passo i, para dividir os arrays ligados\n",
    "    #aos passos e obter médias\n",
    "    \n",
    "    return sx, sy, sr, sx2, sy2, sr2, sNorma, rf, tamanho, dim"
   ]
  },
  {
   "cell_type": "code",
   "execution_count": null,
   "metadata": {},
   "outputs": [],
   "source": [
    "def passoSimples():\n",
    "    \n",
    "    '''Produz um passo num caminho aleatório simples e sem direcção preferencial'''\n",
    "    \n",
    "    direccao = np.random.randint(4)\n",
    "    possiveis = np.array([[1, 0], [0, 1], [-1, 0], [0, -1]], dtype = 'int')\n",
    "    \n",
    "    return possiveis[direccao]"
   ]
  },
  {
   "cell_type": "code",
   "execution_count": null,
   "metadata": {},
   "outputs": [],
   "source": [
    "def fazCaminhoEvita(nPassos, data):\n",
    "    '''Faz um caminho aleatório registando os valores em cada passo na estrutura de dados\n",
    "    nPassos: Número de passos do caminho\n",
    "    data: Estrutura de dados para armazenar os valores\n",
    "    return: O caminho aleatório'''\n",
    "    caminho = np.zeros((nPassos + 1, 2), dtype = 'int') #Inicializa o caminho\n",
    "    data[9][0] += 1 #A posição inicial é efectuada todos os caminhos\n",
    "    #Cria o caminho aleatório e guarda os dados em cada passo\n",
    "    for i in range(1, nPassos + 1):\n",
    "        \n",
    "        passo = passoSimples()\n",
    "        posicaoTmp = caminho[i - 1] + passo\n",
    "        visitado = False\n",
    "        for j in range(0, i + 1):\n",
    "            visitado = caminho[-nPassos + j, 0] == posicaoTmp[0] and caminho[-nPassos + j, 1] == posicaoTmp[1]\n",
    "            if visitado:\n",
    "                break\n",
    "        if visitado:\n",
    "            break\n",
    "        \n",
    "        caminho[i] = posicaoTmp\n",
    "        \n",
    "        data[0][i] += caminho[i, 0] #sx\n",
    "        data[1][i] += caminho[i, 1] #sy\n",
    "        data[2][i] += caminho[i] #sr\n",
    "        data[3][i] += caminho[i, 0] ** 2 #sx2\n",
    "        data[4][i] += caminho[i, 1] ** 2 #sy2\n",
    "        data[5][i] += np.sum(caminho[i] * caminho[i]) #sr2\n",
    "        data[6][i] += np.sum((caminho[i] * caminho[i])) ** (1/2) #sNorma\n",
    "        data[9][i] += 1\n",
    "    \n",
    "    return caminho, i"
   ]
  },
  {
   "cell_type": "code",
   "execution_count": null,
   "metadata": {},
   "outputs": [],
   "source": [
    "def amostragemCaminhos(nPassos, nAmostragens, grafico = True):\n",
    "    '''Cria nAmostragens de caminhos aleatórios com nPassos\n",
    "    nPassos: Número de passos nos caminhos\n",
    "    nAmostragens: Número de caminhos a produzir\n",
    "    grafico: Se True faz o gráfico do último caminho.\n",
    "    return: Os dados cumulativos das várias amostragens por passo e posições finais'''\n",
    "\n",
    "    data = inicia(nPassos, nAmostragens) #Inicializa as estruturas de dados para guardar resultados\n",
    "    \n",
    "    for i in range(nAmostragens):\n",
    "        \n",
    "        caminho, n = fazCaminhoEvita(nPassos, data) #Produz um caminho\n",
    "        \n",
    "        data[7][i] = caminho[n - 1] #Guarda a última posição do caminho\n",
    "        data[8][i] = n #Guarda o número de passos do caminho efectuado\n",
    "    \n",
    "    maxN = int(data[8].max())\n",
    "    \n",
    "    data[0][:maxN] = data[0][:maxN] / data[9][ :maxN]\n",
    "    data[1][:maxN] = data[1][:maxN] / data[9][ :maxN]\n",
    "    #data[2][:] = data[2] / data[9]\n",
    "    data[3][:maxN] = data[3][:maxN] / data[9][ :maxN]\n",
    "    data[4][:maxN] = data[4][:maxN] / data[9][ :maxN]\n",
    "    data[5][:maxN] = data[5][:maxN] / data[9][ :maxN]\n",
    "    data[6][:maxN] = data[6][:maxN] / data[9][ :maxN]\n",
    "    \n",
    "    if grafico:\n",
    "        fig, ax = plt.subplots(figsize = (8, 8))\n",
    "        ax.plot(caminho[:n, 0], caminho[:n, 1])\n",
    "        \n",
    "    return data"
   ]
  },
  {
   "cell_type": "code",
   "execution_count": null,
   "metadata": {},
   "outputs": [],
   "source": [
    "data = amostragemCaminhos(100, 10000)"
   ]
  },
  {
   "cell_type": "code",
   "execution_count": null,
   "metadata": {},
   "outputs": [],
   "source": [
    "fig1 = xyGraficos(data)\n",
    "fig1"
   ]
  },
  {
   "cell_type": "code",
   "execution_count": null,
   "metadata": {},
   "outputs": [],
   "source": [
    "fig2 = distanciaGraficos(data)\n",
    "fig2"
   ]
  },
  {
   "cell_type": "code",
   "execution_count": null,
   "metadata": {},
   "outputs": [],
   "source": [
    "data[9]"
   ]
  },
  {
   "cell_type": "code",
   "execution_count": null,
   "metadata": {},
   "outputs": [],
   "source": [
    "def passosGraficos(data):\n",
    "    \n",
    "    '''Produz os gráficos para análise de caminhos aleatórios, passos efectuados\n",
    "    data: Array com a informação de x, y, r, x**2, y**2, r**2, norma médios e posições finais'''\n",
    "    \n",
    "    fig = plt.Figure()\n",
    "    \n",
    "    ax = fig.add_subplot(221)\n",
    "    ax.plot(data[8])\n",
    "    ax.set_xlabel('# amostra')\n",
    "    ax.set_ylabel('passos')\n",
    "    ax.set_title('# passos vs amostragem')\n",
    "    \n",
    "    ax = fig.add_subplot(222)\n",
    "    ax.plot(data[9], 'o')\n",
    "    ax.set_xlabel('passo')\n",
    "    ax.set_ylabel('amostragens')\n",
    "    ax.set_title('amostragem vs passo')\n",
    "    \n",
    "    ax = fig.add_subplot(223)\n",
    "    ax.hist(data[8], bins = 15)\n",
    "    \n",
    "    fig.set_size_inches(12, 12)\n",
    "    return fig"
   ]
  },
  {
   "cell_type": "code",
   "execution_count": null,
   "metadata": {},
   "outputs": [],
   "source": [
    "fig3 = passosGraficos(data)\n",
    "fig3"
   ]
  },
  {
   "cell_type": "code",
   "execution_count": null,
   "metadata": {},
   "outputs": [],
   "source": [
    "def passosEstatistica(data):\n",
    "    \n",
    "    media = data[8].mean()\n",
    "    desvio = data[8].std()\n",
    "    maximo = data[8].max()\n",
    "    mediana = np.median(data[8])\n",
    "    \n",
    "    print('Média:\\t', media)\n",
    "    print('Desvio padrão:\\t', desvio)\n",
    "    print('Mediana:\\t', mediana)\n",
    "    print('Máximo:\\t', maximo)"
   ]
  },
  {
   "cell_type": "code",
   "execution_count": null,
   "metadata": {},
   "outputs": [],
   "source": [
    "passosEstatistica(data)"
   ]
  },
  {
   "cell_type": "code",
   "execution_count": null,
   "metadata": {},
   "outputs": [],
   "source": [
    "data = inicia(100, 100)"
   ]
  },
  {
   "cell_type": "code",
   "execution_count": null,
   "metadata": {},
   "outputs": [],
   "source": [
    "%timeit -n 10000 -r 10 fazCaminhoEvita(100, data)"
   ]
  },
  {
   "cell_type": "markdown",
   "metadata": {},
   "source": [
    "# Passo perpendiculares\n",
    "\n",
    "Podemos aumentar a longevidade dos caminhos aleatórios que se auto evitam obrigando cada passo a ser perpendicular ao anterior."
   ]
  },
  {
   "cell_type": "code",
   "execution_count": null,
   "metadata": {},
   "outputs": [],
   "source": [
    "def passoPerpendicular(passoAnterior = 0):\n",
    "    \n",
    "    '''Produz um passo num caminho aleatório perpendicular ao passo anterior\n",
    "    passoAnterior: Direcção do passo anterior, 1 se o anterior foi horizontal,\n",
    "    -1 se foi vertical e 0 se é o primeiro passo'''\n",
    "    \n",
    "    if passoAnterior > 0:\n",
    "        direccao = np.random.randint(2)\n",
    "        possiveis = np.array([[0, 1], [0, -1]], dtype = 'int')\n",
    "        passoAnterior = -1\n",
    "    elif passoAnterior < 0:\n",
    "        direccao = np.random.randint(2)\n",
    "        possiveis = np.array([[1, 0], [-1, 0]], dtype = 'int')\n",
    "        passoAnterior = 1\n",
    "    else:\n",
    "        direccao = np.random.randint(4)\n",
    "        possiveis = np.array([[1, 0], [0, 1], [-1, 0], [0, -1]], dtype = 'int') \n",
    "        passoAnterior = 1 if (direccao % 2) == 0 else -1\n",
    "    \n",
    "    return possiveis[direccao], passoAnterior"
   ]
  },
  {
   "cell_type": "code",
   "execution_count": null,
   "metadata": {},
   "outputs": [],
   "source": [
    "def fazCaminhoEvitaPrep(nPassos, data):\n",
    "    '''Faz um caminho aleatório registando os valores em cada passo na estrutura de dados\n",
    "    nPassos: Número de passos do caminho\n",
    "    data: Estrutura de dados para armazenar os valores\n",
    "    return: O caminho aleatório'''\n",
    "    caminho = np.zeros((nPassos + 1, 2), dtype = 'int') #Inicializa o caminho\n",
    "    data[9][0] += 1 #A posição inicial é efectuada todos os caminhos\n",
    "    #Cria o caminho aleatório e guarda os dados em cada passo\n",
    "    direccao = 0\n",
    "    for i in range(1, nPassos + 1):\n",
    "        \n",
    "        passo, direccao = passoPerpendicular(direccao)\n",
    "        posicaoTmp = caminho[i - 1] + passo\n",
    "        visitado = False\n",
    "        for j in range(0, i + 1):\n",
    "            visitado = caminho[-nPassos + j, 0] == posicaoTmp[0] and caminho[-nPassos + j, 1] == posicaoTmp[1]\n",
    "            if visitado:\n",
    "                break\n",
    "        if visitado:\n",
    "            break\n",
    "        \n",
    "        caminho[i] = posicaoTmp\n",
    "        \n",
    "        data[0][i] += caminho[i, 0] #sx\n",
    "        data[1][i] += caminho[i, 1] #sy\n",
    "        data[2][i] += caminho[i] #sr\n",
    "        data[3][i] += caminho[i, 0] ** 2 #sx2\n",
    "        data[4][i] += caminho[i, 1] ** 2 #sy2\n",
    "        data[5][i] += np.sum(caminho[i] * caminho[i]) #sr2\n",
    "        data[6][i] += np.sum((caminho[i] * caminho[i])) ** (1/2) #sNorma\n",
    "        data[9] [i] += 1\n",
    "    else:\n",
    "        i += 1\n",
    "    \n",
    "    return caminho, i"
   ]
  },
  {
   "cell_type": "code",
   "execution_count": null,
   "metadata": {},
   "outputs": [],
   "source": [
    "def amostragemCaminhosPrep(nPassos, nAmostragens, grafico = True):\n",
    "    '''Cria nAmostragens de caminhos aleatórios com nPassos\n",
    "    nPassos: Número de passos nos caminhos\n",
    "    nAmostragens: Número de caminhos a produzir\n",
    "    grafico: Se True faz o gráfico do último caminho.\n",
    "    return: Os dados cumulativos das várias amostragens por passo e posições finais'''\n",
    "    \n",
    "    data = inicia(nPassos, nAmostragens) #Inicializa as estruturas de dados para guardar resultados\n",
    "    \n",
    "    for i in range(nAmostragens):\n",
    "        \n",
    "        caminho, n = fazCaminhoEvitaPrep(nPassos, data) #Produz um caminho\n",
    "        \n",
    "        data[7][i] = caminho[n - 1] #Guarda a última posição do caminho\n",
    "        data[8][i] = n #Guarda o número de passos do caminho efectuado\n",
    "    \n",
    "    maxN = int(data[8].max())\n",
    "    \n",
    "    data[0][:maxN] = data[0][:maxN] / data[9][ :maxN]\n",
    "    data[1][:maxN] = data[1][:maxN] / data[9][ :maxN]\n",
    "    #data[2][:] = data[2] / data[9]\n",
    "    data[3][:maxN] = data[3][:maxN] / data[9][ :maxN]\n",
    "    data[4][:maxN] = data[4][:maxN] / data[9][ :maxN]\n",
    "    data[5][:maxN] = data[5][:maxN] / data[9][ :maxN]\n",
    "    data[6][:maxN] = data[6][:maxN] / data[9][ :maxN]\n",
    "    \n",
    "    if grafico:\n",
    "        fig, ax = plt.subplots(figsize = (8, 8))\n",
    "        ax.plot(caminho[:n, 0], caminho[:n, 1])\n",
    "        \n",
    "    return data"
   ]
  },
  {
   "cell_type": "code",
   "execution_count": null,
   "metadata": {},
   "outputs": [],
   "source": [
    "data = amostragemCaminhosPrep(100, 10000)"
   ]
  },
  {
   "cell_type": "code",
   "execution_count": null,
   "metadata": {},
   "outputs": [],
   "source": [
    "fig1 = xyGraficos(data)\n",
    "fig1"
   ]
  },
  {
   "cell_type": "code",
   "execution_count": null,
   "metadata": {},
   "outputs": [],
   "source": [
    "fig2 = distanciaGraficos(data)\n",
    "fig2"
   ]
  },
  {
   "cell_type": "code",
   "execution_count": null,
   "metadata": {},
   "outputs": [],
   "source": [
    "fig3 = passosGraficos(data)\n",
    "fig3"
   ]
  },
  {
   "cell_type": "code",
   "execution_count": null,
   "metadata": {},
   "outputs": [],
   "source": [
    "passosEstatistica(data)"
   ]
  },
  {
   "cell_type": "code",
   "execution_count": null,
   "metadata": {},
   "outputs": [],
   "source": [
    "data = inicia(100, 100)"
   ]
  },
  {
   "cell_type": "code",
   "execution_count": null,
   "metadata": {},
   "outputs": [],
   "source": [
    "%timeit -n 10000 -r 10 fazCaminhoEvitaPrep(100, data)"
   ]
  },
  {
   "cell_type": "markdown",
   "metadata": {},
   "source": [
    "# Caminho aleatório que se auto evita crescente\n",
    "\n",
    "Com o objectivo de aumentar o número de passos efectuados no caminho aleatório podemos ainda permitir que sejam efectuadas várias tentativas de obter um passo que não leve a um ponto por onde o caminho já tenha passado."
   ]
  },
  {
   "cell_type": "code",
   "execution_count": null,
   "metadata": {},
   "outputs": [],
   "source": [
    "def fazCaminhoEvitaPrepCres(nPassos, data):\n",
    "    '''Faz um caminho aleatório registando os valores em cada passo na estrutura de dados\n",
    "    nPassos: Número de passos do caminho\n",
    "    data: Estrutura de dados para armazenar os valores\n",
    "    return: O caminho aleatório'''\n",
    "    caminho = np.zeros((nPassos + 1, 2), dtype = 'int') #Inicializa o caminho\n",
    "    data[9][0] += 1 #A posição inicial é efectuada todos os caminhos\n",
    "    #Cria o caminho aleatório e guarda os dados em cada passo\n",
    "    direccao = 0 #Direccção do último passo, 0 primeiro passo, 1 horizontal, -1 vertical\n",
    "    maxTentativas = 20 #N máximo de tentativas para encontrar um passo que não leve a uma posição já visitada\n",
    "    for i in range(1, nPassos + 1):\n",
    "        \n",
    "        tentativas = 0 #n de tentativas efectuadas\n",
    "        while tentativas < maxTentativas:\n",
    "            tentativas += 1\n",
    "            passo, direccaoTmp = passoPerpendicular(direccao)\n",
    "            posicaoTmp = caminho[i - 1] + passo\n",
    "            visitado = False\n",
    "            for j in range(0, i + 1):\n",
    "                visitado = caminho[-nPassos + j, 0] == posicaoTmp[0] and caminho[-nPassos + j, 1] == posicaoTmp[1]\n",
    "                if visitado:\n",
    "                    break\n",
    "            if not visitado: #Se a nova posição não tiver sido visitada sair do while\n",
    "                break\n",
    "        else:\n",
    "            break #Se o while tiver terminado por exceder o n de tentativas terminar o caminho\n",
    "\n",
    "        caminho[i] = posicaoTmp\n",
    "        direccao = direccaoTmp\n",
    "        \n",
    "        data[0][i] += caminho[i, 0] #sx\n",
    "        data[1][i] += caminho[i, 1] #sy\n",
    "        data[2][i] += caminho[i] #sr\n",
    "        data[3][i] += caminho[i, 0] ** 2 #sx2\n",
    "        data[4][i] += caminho[i, 1] ** 2 #sy2\n",
    "        data[5][i] += np.sum(caminho[i] * caminho[i]) #sr2\n",
    "        data[6][i] += np.sum((caminho[i] * caminho[i])) ** (1/2) #sNorma\n",
    "        data[9] [i] += 1\n",
    "    else:\n",
    "        i += 1\n",
    "    return caminho, i"
   ]
  },
  {
   "cell_type": "code",
   "execution_count": null,
   "metadata": {},
   "outputs": [],
   "source": [
    "def fazCaminhoEvitaPrepCres2(nPassos, data):\n",
    "    \"\"\"Faz um caminho aleatório registando os valores em cada passo na estrutura de dados\n",
    "    nPassos: Número de passos do caminho\n",
    "    data: Estrutura de dados para armazenar os valores\n",
    "    return: O caminho aleatório\"\"\"\n",
    "    caminho = np.zeros((nPassos + 1, 2), dtype=\"int\")  # Inicializa o caminho\n",
    "    visitados = {(0, 0)}\n",
    "    data[9][0] += 1  # A posição inicial é efectuada todos os caminhos\n",
    "    # Cria o caminho aleatório e guarda os dados em cada passo\n",
    "    direccao = (\n",
    "        0  # Direccção do último passo, 0 primeiro passo, 1 horizontal, -1 vertical\n",
    "    )\n",
    "    maxTentativas = 20  # N máximo de tentativas para encontrar um passo que não leve a uma posição já visitada\n",
    "    for i in range(1, nPassos + 1):\n",
    "\n",
    "        tentativas = 0  # n de tentativas efectuadas\n",
    "        while tentativas < maxTentativas:\n",
    "            tentativas += 1\n",
    "            passo, direccaoTmp = passoPerpendicular(direccao)\n",
    "            posicaoTmp = caminho[i - 1] + passo\n",
    "            tmpTuple = (posicaoTmp[0], posicaoTmp[1])\n",
    "            if tmpTuple not in visitados:\n",
    "                break\n",
    "        else:\n",
    "            break  # Se o while tiver terminado por exceder o n de tentativas terminar o caminho\n",
    "\n",
    "        caminho[i] = posicaoTmp\n",
    "        direccao = direccaoTmp\n",
    "        visitados.add(tmpTuple)\n",
    "\n",
    "        data[0][i] += caminho[i, 0]  # sx\n",
    "        data[1][i] += caminho[i, 1]  # sy\n",
    "        data[2][i] += caminho[i]  # sr\n",
    "        data[3][i] += caminho[i, 0] ** 2  # sx2\n",
    "        data[4][i] += caminho[i, 1] ** 2  # sy2\n",
    "        data[5][i] += np.sum(caminho[i] * caminho[i])  # sr2\n",
    "        data[6][i] += np.sum((caminho[i] * caminho[i])) ** (1 / 2)  # sNorma\n",
    "        data[9][i] += 1\n",
    "    else:\n",
    "        i += 1\n",
    "    return caminho, i"
   ]
  },
  {
   "cell_type": "code",
   "execution_count": null,
   "metadata": {},
   "outputs": [],
   "source": [
    "def amostragemCaminhosPrep(nPassos, nAmostragens, grafico = True):\n",
    "    '''Cria nAmostragens de caminhos aleatórios com nPassos\n",
    "    nPassos: Número de passos nos caminhos\n",
    "    nAmostragens: Número de caminhos a produzir\n",
    "    grafico: Se True faz o gráfico do último caminho.\n",
    "    return: Os dados cumulativos das várias amostragens por passo e posições finais'''\n",
    "    \n",
    "    data = inicia(nPassos, nAmostragens) #Inicializa as estruturas de dados para guardar resultados\n",
    "    \n",
    "    for i in range(nAmostragens):\n",
    "        \n",
    "        caminho, n = fazCaminhoEvitaPrepCres2(nPassos, data) #Produz um caminho\n",
    "        \n",
    "        data[7][i] = caminho[n - 1] #Guarda a última posição do caminho\n",
    "        data[8][i] = n #Guarda o número de passos do caminho efectuado\n",
    "    \n",
    "    maxN = int(data[8].max())\n",
    "    \n",
    "    data[0][:maxN] = data[0][:maxN] / data[9][ :maxN]\n",
    "    data[1][:maxN] = data[1][:maxN] / data[9][ :maxN]\n",
    "    data[3][:maxN] = data[3][:maxN] / data[9][ :maxN]\n",
    "    data[4][:maxN] = data[4][:maxN] / data[9][ :maxN]\n",
    "    data[5][:maxN] = data[5][:maxN] / data[9][ :maxN]\n",
    "    data[6][:maxN] = data[6][:maxN] / data[9][ :maxN]\n",
    "    \n",
    "    if grafico:\n",
    "        fig, ax = plt.subplots(figsize = (8, 8))\n",
    "        ax.plot(caminho[:n, 0], caminho[:n, 1])\n",
    "        \n",
    "    return data"
   ]
  },
  {
   "cell_type": "code",
   "execution_count": null,
   "metadata": {},
   "outputs": [],
   "source": [
    "data = amostragemCaminhosPrep(100, 10000)"
   ]
  },
  {
   "cell_type": "code",
   "execution_count": null,
   "metadata": {},
   "outputs": [],
   "source": [
    "fig1 = xyGraficos(data)\n",
    "fig1"
   ]
  },
  {
   "cell_type": "code",
   "execution_count": null,
   "metadata": {},
   "outputs": [],
   "source": [
    "fig2 = distanciaGraficos(data)\n",
    "fig2"
   ]
  },
  {
   "cell_type": "code",
   "execution_count": null,
   "metadata": {},
   "outputs": [],
   "source": [
    "fig3 = passosGraficos(data)\n",
    "fig3"
   ]
  },
  {
   "cell_type": "code",
   "execution_count": null,
   "metadata": {},
   "outputs": [],
   "source": [
    "passosEstatistica(data)"
   ]
  },
  {
   "cell_type": "code",
   "execution_count": null,
   "metadata": {},
   "outputs": [],
   "source": [
    "data = inicia(100, 100)"
   ]
  },
  {
   "cell_type": "code",
   "execution_count": null,
   "metadata": {},
   "outputs": [],
   "source": [
    "%timeit -n 10000 -r 10 fazCaminhoEvitaPrepCres(100, data)"
   ]
  },
  {
   "cell_type": "code",
   "execution_count": null,
   "metadata": {},
   "outputs": [],
   "source": [
    "data = inicia(100, 100)"
   ]
  },
  {
   "cell_type": "code",
   "execution_count": null,
   "metadata": {},
   "outputs": [],
   "source": [
    "%timeit -n 1000 -r 10 fazCaminhoEvitaPrepCres2(100, data)"
   ]
  },
  {
   "cell_type": "code",
   "execution_count": null,
   "metadata": {},
   "outputs": [],
   "source": [
    "data = inicia(100, 100)"
   ]
  },
  {
   "cell_type": "code",
   "execution_count": null,
   "metadata": {},
   "outputs": [],
   "source": [
    "%timeit -n 1000 -r 10 fazCaminhoEvitaPrepCres(100, data)"
   ]
  },
  {
   "cell_type": "code",
   "execution_count": null,
   "metadata": {},
   "outputs": [],
   "source": [
    "data = inicia(10000, 100)"
   ]
  },
  {
   "cell_type": "code",
   "execution_count": null,
   "metadata": {},
   "outputs": [],
   "source": [
    "%timeit -n 1000 -r 10 fazCaminhoEvitaPrepCres2(1000, data)"
   ]
  },
  {
   "cell_type": "code",
   "execution_count": null,
   "metadata": {},
   "outputs": [],
   "source": [
    "data = inicia(10000, 100)"
   ]
  },
  {
   "cell_type": "code",
   "execution_count": null,
   "metadata": {},
   "outputs": [],
   "source": [
    "%timeit -n 1000 -r 10 fazCaminhoEvitaPrepCres(1000, data)"
   ]
  },
  {
   "cell_type": "code",
   "execution_count": null,
   "metadata": {},
   "outputs": [],
   "source": [
    "%prun amostragemCaminhosPrep(100, 10000, False)"
   ]
  },
  {
   "cell_type": "code",
   "execution_count": null,
   "metadata": {},
   "outputs": [],
   "source": [
    "data = inicia(100, 100)"
   ]
  },
  {
   "cell_type": "code",
   "execution_count": null,
   "metadata": {},
   "outputs": [],
   "source": [
    "%timeit -n 1000 -r 10 fazCaminhoEvitaPrepCres2(100, data)"
   ]
  },
  {
   "cell_type": "code",
   "execution_count": null,
   "metadata": {},
   "outputs": [],
   "source": [
    "data = inicia(10000, 100)"
   ]
  },
  {
   "cell_type": "code",
   "execution_count": null,
   "metadata": {},
   "outputs": [],
   "source": [
    "%timeit -n 1000 -r 10 fazCaminhoEvitaPrepCres(1000, data)"
   ]
  },
  {
   "cell_type": "code",
   "execution_count": null,
   "metadata": {},
   "outputs": [],
   "source": [
    "data = inicia(10000, 100)"
   ]
  },
  {
   "cell_type": "code",
   "execution_count": null,
   "metadata": {},
   "outputs": [],
   "source": [
    "%timeit -n 1000 -r 10 fazCaminhoEvitaPrepCres2(1000, data)"
   ]
  }
 ],
 "metadata": {
  "kernelspec": {
   "display_name": "Python 3",
   "language": "python",
   "name": "python3"
  },
  "language_info": {
   "codemirror_mode": {
    "name": "ipython",
    "version": 3
   },
   "file_extension": ".py",
   "mimetype": "text/x-python",
   "name": "python",
   "nbconvert_exporter": "python",
   "pygments_lexer": "ipython3",
   "version": "3.10.12"
  }
 },
 "nbformat": 4,
 "nbformat_minor": 2
}
