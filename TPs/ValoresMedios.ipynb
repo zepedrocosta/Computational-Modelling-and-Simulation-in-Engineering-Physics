{
 "cells": [
  {
   "cell_type": "code",
   "execution_count": null,
   "metadata": {},
   "outputs": [],
   "source": [
    "import math\n",
    "import matplotlib.pyplot as plt"
   ]
  },
  {
   "cell_type": "code",
   "execution_count": null,
   "metadata": {},
   "outputs": [],
   "source": [
    "\"\"\"\n",
    "Calcula a probabilidade de um resultado possível da distribuição multinominal\n",
    "para um total de 4 escolhas possíveis\n",
    "\"\"\"\n",
    "\n",
    "\n",
    "def p(i, j, k, l):\n",
    "    n = i + j + k + l\n",
    "    output = (\n",
    "        math.factorial(n)\n",
    "        / (\n",
    "            math.factorial(i)\n",
    "            * math.factorial(j)\n",
    "            * math.factorial(k)\n",
    "            * math.factorial(l)\n",
    "        )\n",
    "        * (1 / 4) ** n\n",
    "    )\n",
    "\n",
    "    return output"
   ]
  },
  {
   "cell_type": "code",
   "execution_count": null,
   "metadata": {},
   "outputs": [],
   "source": [
    "n = 100\n",
    "result = 0\n",
    "for i in range(n + 1):\n",
    "    for j in range(n + 1 - i):\n",
    "        for k in range(n + 1 - i - j):\n",
    "            l = n - i - j - k\n",
    "\n",
    "            result += p(i, j, k, l)\n",
    "\n",
    "print(result)"
   ]
  }
 ],
 "metadata": {
  "kernelspec": {
   "display_name": "Python 3",
   "language": "python",
   "name": "python3"
  },
  "language_info": {
   "codemirror_mode": {
    "name": "ipython",
    "version": 3
   },
   "file_extension": ".py",
   "mimetype": "text/x-python",
   "name": "python",
   "nbconvert_exporter": "python",
   "pygments_lexer": "ipython3",
   "version": "3.12.1"
  }
 },
 "nbformat": 4,
 "nbformat_minor": 2
}
