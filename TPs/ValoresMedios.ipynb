{
 "cells": [
  {
   "cell_type": "code",
   "execution_count": 4,
   "metadata": {},
   "outputs": [],
   "source": [
    "import numpy as np\n",
    "import matplotlib.pyplot as plt"
   ]
  },
  {
   "cell_type": "code",
   "execution_count": 5,
   "metadata": {},
   "outputs": [],
   "source": [
    "\"\"\"\n",
    "Calcula a probabilidade de um resultado possível da distribuição multinominal\n",
    "para um total de 4 escolhas possíveis\n",
    "\"\"\"\n",
    "\n",
    "\n",
    "def p(i, j, k, l):\n",
    "    n = i + j + k + l\n",
    "    output = (\n",
    "        np.math.factorial(n)\n",
    "        / (\n",
    "            np.math.factorial(i)\n",
    "            * np.math.factorial(j)\n",
    "            * np.math.factorial(k)\n",
    "            * np.math.factorial(l)\n",
    "        )\n",
    "        * (1 / 4) ** n\n",
    "    )\n",
    "\n",
    "    return output"
   ]
  },
  {
   "cell_type": "code",
   "execution_count": 6,
   "metadata": {},
   "outputs": [
    {
     "name": "stderr",
     "output_type": "stream",
     "text": [
      "C:\\Users\\josep\\AppData\\Local\\Temp\\ipykernel_10024\\3337313958.py:5: DeprecationWarning: `np.math` is a deprecated alias for the standard library `math` module (Deprecated Numpy 1.25). Replace usages of `np.math` with `math`\n",
      "  output = np.math.factorial(n) / (np.math.factorial(i) * np.math.factorial(j) * np.math.factorial(k) * np.math.factorial(l)) * (1/4) ** n\n"
     ]
    },
    {
     "name": "stdout",
     "output_type": "stream",
     "text": [
      "0.9999999999999635\n"
     ]
    }
   ],
   "source": [
    "n = 100\n",
    "result = 0\n",
    "for i in range(n + 1):\n",
    "    for j in range(n + 1 - i):\n",
    "        for k in range(n + 1 - i - j):\n",
    "            l = n - i - j - k\n",
    "\n",
    "            result += p(i, j, k, l)\n",
    "\n",
    "print(result)"
   ]
  }
 ],
 "metadata": {
  "kernelspec": {
   "display_name": "Python 3",
   "language": "python",
   "name": "python3"
  },
  "language_info": {
   "codemirror_mode": {
    "name": "ipython",
    "version": 3
   },
   "file_extension": ".py",
   "mimetype": "text/x-python",
   "name": "python",
   "nbconvert_exporter": "python",
   "pygments_lexer": "ipython3",
   "version": "3.12.1"
  }
 },
 "nbformat": 4,
 "nbformat_minor": 2
}
