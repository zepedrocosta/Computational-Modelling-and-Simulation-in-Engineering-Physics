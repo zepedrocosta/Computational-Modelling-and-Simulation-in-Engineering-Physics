{
 "cells": [
  {
   "cell_type": "markdown",
   "metadata": {},
   "source": [
    "# Computação em multi processador\n",
    "\n",
    "O objectivo de usar computação em multiprocessador é dividir o trabalho entre os vários processadores disponíveis e diminuir o tempo de execução.\n",
    "\n",
    "Os vários processos criados são independentes entre si, cada um com o seu próprio espaço de memória."
   ]
  },
  {
   "cell_type": "code",
   "execution_count": null,
   "metadata": {},
   "outputs": [],
   "source": [
    "import multiprocessing as mp\n",
    "import os\n",
    "import time"
   ]
  },
  {
   "cell_type": "code",
   "execution_count": null,
   "metadata": {},
   "outputs": [],
   "source": [
    "def square(number):\n",
    "    print(\"{0} squared is {1}. Process id: {2}\".format(number, number * number, os.getpid()))"
   ]
  },
  {
   "cell_type": "code",
   "execution_count": null,
   "metadata": {},
   "outputs": [],
   "source": [
    "if __name__ == '__main__':\n",
    "    p1 = mp.Process(target = square, args = (10, ))\n",
    "    p2 = mp.Process(target = square, args = (100, ))\n",
    "    \n",
    "    p1.start()\n",
    "    p2.start()\n",
    "    \n",
    "    p1.join()\n",
    "    p2.join()\n",
    "    square(1000)"
   ]
  },
  {
   "cell_type": "code",
   "execution_count": null,
   "metadata": {},
   "outputs": [],
   "source": [
    "numbers = [1, 10, 100, 1000, 10000]\n",
    "procs = []\n",
    "if __name__ == '__main__':\n",
    "    for n in numbers:\n",
    "        p = mp.Process(target = square, args = (n, ))\n",
    "        procs.append(p)\n",
    "        p.start()\n",
    "    \n",
    "    for p in procs:\n",
    "        p.join()"
   ]
  },
  {
   "cell_type": "code",
   "execution_count": null,
   "metadata": {},
   "outputs": [],
   "source": [
    "def counter(samples, n):\n",
    "    for i in range(samples):\n",
    "        n += 1\n",
    "    print(n)\n",
    "    return n"
   ]
  },
  {
   "cell_type": "code",
   "execution_count": null,
   "metadata": {},
   "outputs": [],
   "source": [
    "n = 0\n",
    "t0 = time.time_ns()\n",
    "if __name__ == '__main__':\n",
    "    n = counter(6 * 10 ** 6, n)\n",
    "\n",
    "    t1 = time.time_ns()\n",
    "    print('Time taken: ', (t1 - t0) / 10 ** 9)    \n",
    "    print(n)"
   ]
  },
  {
   "cell_type": "code",
   "execution_count": null,
   "metadata": {},
   "outputs": [],
   "source": [
    "def counter_value(samples, n):\n",
    "    for i in range(samples):\n",
    "        n.value += 1\n",
    "    print(n.value)"
   ]
  },
  {
   "cell_type": "code",
   "execution_count": null,
   "metadata": {},
   "outputs": [],
   "source": [
    "procs = []\n",
    "count = mp.Value('i', 0)\n",
    "t0 = time.time_ns()\n",
    "if __name__ == '__main__':\n",
    "    for i in range(6):\n",
    "        p = mp.Process(target = counter_value, args = (10 ** 6, count, ))\n",
    "        procs.append(p)\n",
    "        p.start()\n",
    "    \n",
    "    for p in procs:\n",
    "        p.join()\n",
    "\n",
    "    t1 = time.time_ns()\n",
    "    print('Time taken: ', (t1 - t0) / 10 ** 9)    \n",
    "    print(count.value)"
   ]
  },
  {
   "cell_type": "code",
   "execution_count": null,
   "metadata": {},
   "outputs": [],
   "source": [
    "def counter_array(samples, arr, ind):\n",
    "    for i in range(samples):\n",
    "        arr[ind] += 1\n",
    "    print(ind, '\\t', arr[ind])"
   ]
  },
  {
   "cell_type": "code",
   "execution_count": null,
   "metadata": {},
   "outputs": [],
   "source": [
    "procs = []\n",
    "count_array = mp.Array('i', 6 * [0])\n",
    "t0 = time.time_ns()\n",
    "if __name__ == '__main__':\n",
    "    for i in range(6):\n",
    "        p = mp.Process(target = counter_array, args = (10 ** 6, count_array, i, ))\n",
    "        procs.append(p)\n",
    "        p.start()\n",
    "    \n",
    "    for p in procs:\n",
    "        p.join()\n",
    "\n",
    "    t1 = time.time_ns()\n",
    "    print('Time taken: ', (t1 - t0) / 10 ** 9)    \n",
    "    print(sum(count_array))"
   ]
  },
  {
   "cell_type": "code",
   "execution_count": null,
   "metadata": {},
   "outputs": [],
   "source": [
    "def counter_array2(samples, arr, ind):\n",
    "    n = 0\n",
    "    for i in range(samples):\n",
    "        n += 1\n",
    "    arr[ind] = n\n",
    "    print(ind, '\\t', arr[ind])"
   ]
  },
  {
   "cell_type": "code",
   "execution_count": null,
   "metadata": {},
   "outputs": [],
   "source": [
    "procs = []\n",
    "count_array = mp.Array('i', 6 * [0])\n",
    "t0 = time.time_ns()\n",
    "if __name__ == '__main__':\n",
    "    for i in range(6):\n",
    "        p = mp.Process(target = counter_array2, args = (10 ** 6, count_array, i, ))\n",
    "        procs.append(p)\n",
    "        p.start()\n",
    "    \n",
    "    for p in procs:\n",
    "        p.join()\n",
    "\n",
    "    t1 = time.time_ns()\n",
    "    print('Time taken: ', (t1 - t0) / 10 ** 9)\n",
    "    print(sum(count_array))"
   ]
  },
  {
   "cell_type": "code",
   "execution_count": null,
   "metadata": {},
   "outputs": [],
   "source": [
    "mp.cpu_count()"
   ]
  },
  {
   "cell_type": "code",
   "execution_count": null,
   "metadata": {},
   "outputs": [],
   "source": [
    "def counter_pool(samples):\n",
    "    n = 0\n",
    "    for i in range(samples):\n",
    "        n += 1\n",
    "    print(n, ' in process ', os.getpid())\n",
    "    return n"
   ]
  },
  {
   "cell_type": "code",
   "execution_count": null,
   "metadata": {},
   "outputs": [],
   "source": [
    "t0 = time.time_ns()\n",
    "if __name__ == '__main__':\n",
    "    p = mp.Pool(processes = 6)\n",
    "    out = p.map(counter_pool, 6 * [10 ** 6])\n",
    "\n",
    "    t1 = time.time_ns()\n",
    "    print('Time taken: ', (t1 - t0) / 10 ** 9)    \n",
    "    print(sum(out))"
   ]
  },
  {
   "cell_type": "code",
   "execution_count": null,
   "metadata": {},
   "outputs": [],
   "source": [
    "def counter_queue(q, samples):\n",
    "    n = 0\n",
    "    for i in range(samples):\n",
    "        n += 1\n",
    "    q.put(n)\n",
    "    print(n, ' in process ', os.getpid())"
   ]
  },
  {
   "cell_type": "code",
   "execution_count": null,
   "metadata": {},
   "outputs": [],
   "source": [
    "procs = []\n",
    "t0 = time.time_ns()\n",
    "q = mp.Queue()\n",
    "out = 0\n",
    "if __name__ == '__main__':\n",
    "    for i in range(6):\n",
    "        p = mp.Process(target = counter_queue, args = (q, 10 ** 6, ))\n",
    "        procs.append(p)\n",
    "        p.start()\n",
    "    \n",
    "    for p in procs:\n",
    "        p.join()\n",
    "    out += q.get()\n",
    "    t1 = time.time_ns()\n",
    "    print('Time taken: ', (t1 - t0) / 10 ** 9)    \n",
    "    print(sum(count_array))"
   ]
  }
 ],
 "metadata": {
  "kernelspec": {
   "display_name": "Python 3",
   "language": "python",
   "name": "python3"
  },
  "language_info": {
   "codemirror_mode": {
    "name": "ipython",
    "version": 3
   },
   "file_extension": ".py",
   "mimetype": "text/x-python",
   "name": "python",
   "nbconvert_exporter": "python",
   "pygments_lexer": "ipython3",
   "version": "3.10.12"
  }
 },
 "nbformat": 4,
 "nbformat_minor": 2
}
